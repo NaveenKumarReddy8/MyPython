{
  "nbformat": 4,
  "nbformat_minor": 0,
  "metadata": {
    "colab": {
      "name": "Chapter1_2_Creating_Variables_and_Assigning_Values.ipynb",
      "provenance": [],
      "authorship_tag": "ABX9TyP/IYB24Md2QO1082dHlh6v",
      "include_colab_link": true
    },
    "kernelspec": {
      "name": "python3",
      "display_name": "Python 3"
    }
  },
  "cells": [
    {
      "cell_type": "markdown",
      "metadata": {
        "id": "view-in-github",
        "colab_type": "text"
      },
      "source": [
        "<a href=\"https://colab.research.google.com/github/NaveenKumarReddy8/PythonWorkshop/blob/chapter_1-5/Chapter1_2_Creating_Variables_and_Assigning_Values.ipynb\" target=\"_parent\"><img src=\"https://colab.research.google.com/assets/colab-badge.svg\" alt=\"Open In Colab\"/></a>"
      ]
    },
    {
      "cell_type": "markdown",
      "metadata": {
        "id": "xUnD6b5WConh",
        "colab_type": "text"
      },
      "source": [
        "# 1.2 Creating variables and assigning values"
      ]
    },
    {
      "cell_type": "markdown",
      "metadata": {
        "id": "nSfpznkhAugI",
        "colab_type": "text"
      },
      "source": [
        "Python is a Dynamically typed language. It means based on the value we assign to a variable, it sets the datatype to it."
      ]
    },
    {
      "cell_type": "markdown",
      "metadata": {
        "id": "L8dTf6o6Bq39",
        "colab_type": "text"
      },
      "source": [
        "Now the question is \"How do we assign a value to a variable?🤔\". It's pretty easy.\n",
        "\n",
        "\n",
        "```Python\n",
        "<variable_name> = <value>\n",
        "```\n",
        "\n"
      ]
    },
    {
      "cell_type": "markdown",
      "metadata": {
        "id": "ZOcCzZ5YC7mp",
        "colab_type": "text"
      },
      "source": [
        "We have a big list of data types that come as builtins in Python.\n",
        "\n",
        "*   None\n",
        "*   bytes\n",
        "*   int\n",
        "*   bool\n",
        "*   float\n",
        "*   complex\n",
        "*   string\n",
        "*   tuple\n",
        "*   list\n",
        "*   set\n",
        "*   dict\n",
        "\n",
        "Apart from the above prominent data types, we have a few other data types like namedtuple, frozensets\n"
      ]
    },
    {
      "cell_type": "markdown",
      "metadata": {
        "id": "StWKQRtSGKdL",
        "colab_type": "text"
      },
      "source": [
        "Let's create examples for the above data types, will be little bored in just seeing the examples. We would be covering in depth about these data types in upcoming chapters :)"
      ]
    },
    {
      "cell_type": "markdown",
      "metadata": {
        "id": "TXyKVELZMvgA",
        "colab_type": "text"
      },
      "source": [
        "Few things to know before getting into the examples:😉\n",
        "\n",
        "\n",
        "1.   `print` function is used to print the data on to the console. We used `f` inside the print function which is used to format the strings as `{}`, these are known as f-strings.\n",
        "2.   `type` function is used to find the type of the object or datatype.\n",
        "\n"
      ]
    },
    {
      "cell_type": "code",
      "metadata": {
        "id": "ZISb9hAoGEJx",
        "colab_type": "code",
        "colab": {}
      },
      "source": [
        "# None\n",
        "none_datatype = None\n",
        "print(f\"The type of none_datatype is {type(none_datatype)}\")"
      ],
      "execution_count": 0,
      "outputs": []
    },
    {
      "cell_type": "code",
      "metadata": {
        "id": "vIwmCO-nHANK",
        "colab_type": "code",
        "colab": {}
      },
      "source": [
        "# int\n",
        "int_datatype = 13\n",
        "print(f\"The type of int_datatype is {type(int_datatype)}\")"
      ],
      "execution_count": 0,
      "outputs": []
    },
    {
      "cell_type": "code",
      "metadata": {
        "id": "5TKAoPT65mBc",
        "colab_type": "code",
        "colab": {}
      },
      "source": [
        "# bytes\n",
        "bytes_datatype = b\"Hello Python!\"\n",
        "print(f\"The type of bytes_datatype is {type(bytes_datatype)}\")"
      ],
      "execution_count": 0,
      "outputs": []
    },
    {
      "cell_type": "code",
      "metadata": {
        "id": "r0SVbUnlHK38",
        "colab_type": "code",
        "colab": {}
      },
      "source": [
        "# bool\n",
        "bool_datatype = True  # bool datatype can only have either True or False. Integer value of True is 1 and False is 0. \n",
        "print(f\"The type of bool_datatype is {type(bool_datatype)}\")"
      ],
      "execution_count": 0,
      "outputs": []
    },
    {
      "cell_type": "code",
      "metadata": {
        "id": "ZeEarkd9H2xi",
        "colab_type": "code",
        "colab": {}
      },
      "source": [
        "# float\n",
        "float_datatype = 3.14\n",
        "print(f\"The type of float_datatype is {type(float_datatype)}\")"
      ],
      "execution_count": 0,
      "outputs": []
    },
    {
      "cell_type": "code",
      "metadata": {
        "id": "GEKugfZmH7XS",
        "colab_type": "code",
        "colab": {}
      },
      "source": [
        "# complex\n",
        "complex_datatype = 13 + 5j\n",
        "print(f\"The type of complex_datatype is {type(complex_datatype)}\")"
      ],
      "execution_count": 0,
      "outputs": []
    },
    {
      "cell_type": "code",
      "metadata": {
        "id": "0VYUQNOsH9H2",
        "colab_type": "code",
        "colab": {}
      },
      "source": [
        "# str\n",
        "str_datatype = \"Hey! Welcome to Python.\"\n",
        "print(f\"The type of str_datatype is {type(str_datatype)}\")"
      ],
      "execution_count": 0,
      "outputs": []
    },
    {
      "cell_type": "code",
      "metadata": {
        "id": "TsHvzywmH9ZU",
        "colab_type": "code",
        "colab": {}
      },
      "source": [
        "# tuple\n",
        "tuple_datatype = (None, 13, True, 3.14, \"Hey! Welcome to Python.\")\n",
        "print(f\"The type of tuple_datatype is {type(tuple_datatype)}\")"
      ],
      "execution_count": 0,
      "outputs": []
    },
    {
      "cell_type": "code",
      "metadata": {
        "id": "SyhbPGm6I-IP",
        "colab_type": "code",
        "colab": {}
      },
      "source": [
        "# list\n",
        "list_datatype = [None, 13, True, 3.14, \"Hey! Welcome to Python.\"]\n",
        "print(f\"The type of list_datatype is {type(list_datatype)}\")"
      ],
      "execution_count": 0,
      "outputs": []
    },
    {
      "cell_type": "code",
      "metadata": {
        "id": "45e4jLRvJMeM",
        "colab_type": "code",
        "colab": {}
      },
      "source": [
        "# set\n",
        "set_datatype = {None, 13, True, 3.14, \"Hey! Welcome to Python.\"}\n",
        "print(f\"The type of set_datatype is {type(set_datatype)}\")"
      ],
      "execution_count": 0,
      "outputs": []
    },
    {
      "cell_type": "code",
      "metadata": {
        "id": "5FpP3e_QJW7o",
        "colab_type": "code",
        "colab": {}
      },
      "source": [
        "# dict\n",
        "dict_datatype = {\n",
        "    \"language\": \"Python\",\n",
        "    \"Inventor\": \"Guido Van Rossum\",\n",
        "    \"release_year\": 1991,\n",
        "}\n",
        "print(f\"The type of dict_datatype is {type(dict_datatype)}\")"
      ],
      "execution_count": 0,
      "outputs": []
    },
    {
      "cell_type": "markdown",
      "metadata": {
        "id": "OH2dTRIOKlOd",
        "colab_type": "text"
      },
      "source": [
        "# Tidbits\n",
        "\n",
        "The thing which I Love and Hate the most about Python is the dynamic typing. We might not know what are the types of parameters we might pass to a function or method. If you pass any other type of object as a parameter, **boom** you would see an AttributeError raised(Atleast I used to get it😝). \n",
        "\n",
        "To help the developers with this, from Python 3.6 we have [Type Hints(PEP-484)](https://www.python.org/dev/peps/pep-0484/). \n",
        "\n",
        "We will get through these in the coming chapters. Stay tuned 😇\n",
        "\n"
      ]
    }
  ]
}