{
  "nbformat": 4,
  "nbformat_minor": 0,
  "metadata": {
    "colab": {
      "name": "Untitled4.ipynb",
      "provenance": [],
      "authorship_tag": "ABX9TyNC4HtoL0a5mkhCs3agcXHM",
      "include_colab_link": true
    },
    "kernelspec": {
      "name": "python3",
      "display_name": "Python 3"
    }
  },
  "cells": [
    {
      "cell_type": "markdown",
      "metadata": {
        "id": "view-in-github",
        "colab_type": "text"
      },
      "source": [
        "<a href=\"https://colab.research.google.com/github/NaveenKumarReddy8/MyPython/blob/chapter_1-5/Chapter1_3_Keywords_and_Variable_naming.ipynb\" target=\"_parent\"><img src=\"https://colab.research.google.com/assets/colab-badge.svg\" alt=\"Open In Colab\"/></a>"
      ]
    },
    {
      "cell_type": "markdown",
      "metadata": {
        "id": "MhCFoMwuyooV",
        "colab_type": "text"
      },
      "source": [
        "# Python Keywords and allowed Variable names"
      ]
    },
    {
      "cell_type": "code",
      "metadata": {
        "id": "8r1Iy21Vyvdx",
        "colab_type": "code",
        "colab": {}
      },
      "source": [
        "# To retrieve the python keyword list, we can use the keyword built-in package\n",
        "import keyword"
      ],
      "execution_count": 0,
      "outputs": []
    },
    {
      "cell_type": "markdown",
      "metadata": {
        "id": "99Y5ERcY0YhR",
        "colab_type": "text"
      },
      "source": [
        "Let's print the keywords present.\n",
        "\n",
        "keyword.kwlist returns python's keywords in a list datatype.\n",
        "\n",
        "We are using *(starred) expression to print the values returned by keyword.kwlist each separating by \"\\n\"(newline)"
      ]
    },
    {
      "cell_type": "code",
      "metadata": {
        "id": "3KmgWd1TzGCv",
        "colab_type": "code",
        "colab": {}
      },
      "source": [
        "print(*keyword.kwlist, sep=\"\\n\")"
      ],
      "execution_count": 0,
      "outputs": []
    },
    {
      "cell_type": "markdown",
      "metadata": {
        "id": "97Q7XZSe1A1i",
        "colab_type": "text"
      },
      "source": [
        "# Variable Names\n",
        "\n",
        "TLDR: \n",
        "\n",
        "*   Variable names shouldn't be same as that of built-in keywords \n",
        "*   Variable name shouldn't start with a number or with a symbol(except \"_\", protected and private attributes are created using underscore, 🤔 it's better to say it as name mangling rather than protected or private. That's for a different notebook session 😀)\n",
        "\n",
        "PS: Don't give a try naming the variable that starts with #, it would be a Python's comment, which would be neglected by the interpreter 😅"
      ]
    },
    {
      "cell_type": "markdown",
      "metadata": {
        "id": "0hrpcjLg4QaL",
        "colab_type": "text"
      },
      "source": [
        "### Allowed Variable names"
      ]
    },
    {
      "cell_type": "code",
      "metadata": {
        "id": "isvVsIHJ4VcH",
        "colab_type": "code",
        "colab": {}
      },
      "source": [
        "x = True\n",
        "_x = False\n",
        "x_y = \"Hey Python geek!\"\n",
        "x9 = \"alphabet_number\"\n",
        "X = \"one more variable\"  # Python is a case sensitive language, so `x` is different from `X`. Let's give it a try\n",
        "print(f\"x is equal to X:{x==X}\")"
      ],
      "execution_count": 0,
      "outputs": []
    },
    {
      "cell_type": "markdown",
      "metadata": {
        "id": "15MOnXI35fnn",
        "colab_type": "text"
      },
      "source": [
        "### Invalid Variable names"
      ]
    },
    {
      "cell_type": "markdown",
      "metadata": {
        "id": "AsH_jXBI52FH",
        "colab_type": "text"
      },
      "source": [
        "We will be using `exec` within `try`-`except` to catch the syntax error. 🤔 But why? Syntax errors can't be catched, well it shouldn't for good 😉. so we are using `exec` to execute the code. \n",
        "\n",
        "`exec` takes the string argument and interprets the string as a python code."
      ]
    },
    {
      "cell_type": "code",
      "metadata": {
        "id": "yg-ujR4Z5sJ8",
        "colab_type": "code",
        "colab": {}
      },
      "source": [
        "# variable name starting with number\n",
        "code_string = \"9x=True\"\n",
        "try:\n",
        "    exec(code_string)\n",
        "except SyntaxError as exc:\n",
        "    print(f\"Ouch! In the exception: {exc}\")"
      ],
      "execution_count": 0,
      "outputs": []
    },
    {
      "cell_type": "code",
      "metadata": {
        "id": "cLehV3ZP7Q2s",
        "colab_type": "code",
        "colab": {}
      },
      "source": [
        "# variable name starting with a symbol(other than underscore\"_\")\n",
        "code_string = \"$g = 10\"\n",
        "try:\n",
        "    exec(code_string)\n",
        "except SyntaxError as exc:\n",
        "    print(f\"Ouch! In the exception: {exc}\")"
      ],
      "execution_count": 0,
      "outputs": []
    }
  ]
}