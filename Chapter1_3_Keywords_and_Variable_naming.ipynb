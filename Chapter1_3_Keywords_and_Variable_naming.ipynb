{
  "nbformat": 4,
  "nbformat_minor": 0,
  "metadata": {
    "colab": {
      "name": "Untitled4.ipynb",
      "provenance": [],
      "authorship_tag": "ABX9TyM17IgVG+RI2XGObYIBqqSp",
      "include_colab_link": true
    },
    "kernelspec": {
      "name": "python3",
      "display_name": "Python 3"
    }
  },
  "cells": [
    {
      "cell_type": "markdown",
      "metadata": {
        "id": "view-in-github",
        "colab_type": "text"
      },
      "source": [
        "<a href=\"https://colab.research.google.com/github/NaveenKumarReddy8/MyPython/blob/chapter_1-5/Chapter1_3_Keywords_and_Variable_naming.ipynb\" target=\"_parent\"><img src=\"https://colab.research.google.com/assets/colab-badge.svg\" alt=\"Open In Colab\"/></a>"
      ]
    },
    {
      "cell_type": "markdown",
      "metadata": {
        "id": "MhCFoMwuyooV",
        "colab_type": "text"
      },
      "source": [
        "# Python Keywords and allowed Variable names"
      ]
    },
    {
      "cell_type": "code",
      "metadata": {
        "id": "8r1Iy21Vyvdx",
        "colab_type": "code",
        "colab": {}
      },
      "source": [
        "# To retrieve the python keyword list, we can use the keyword built-in package\n",
        "import keyword"
      ],
      "execution_count": 0,
      "outputs": []
    },
    {
      "cell_type": "markdown",
      "metadata": {
        "id": "99Y5ERcY0YhR",
        "colab_type": "text"
      },
      "source": [
        "Let's print the keywords present.\n",
        "\n",
        "keyword.kwlist returns python's keywords in a list datatype.\n",
        "\n",
        "We are using *(starred) expression to print the values returned by keyword.kwlist each separating by \"\\n\"(newline)"
      ]
    },
    {
      "cell_type": "code",
      "metadata": {
        "id": "3KmgWd1TzGCv",
        "colab_type": "code",
        "outputId": "bc88cde5-2aae-4b87-c7bb-7a5d35aaf82c",
        "colab": {
          "base_uri": "https://localhost:8080/",
          "height": 590
        }
      },
      "source": [
        "print(*keyword.kwlist, sep=\"\\n\")"
      ],
      "execution_count": 5,
      "outputs": [
        {
          "output_type": "stream",
          "text": [
            "False\n",
            "None\n",
            "True\n",
            "and\n",
            "as\n",
            "assert\n",
            "break\n",
            "class\n",
            "continue\n",
            "def\n",
            "del\n",
            "elif\n",
            "else\n",
            "except\n",
            "finally\n",
            "for\n",
            "from\n",
            "global\n",
            "if\n",
            "import\n",
            "in\n",
            "is\n",
            "lambda\n",
            "nonlocal\n",
            "not\n",
            "or\n",
            "pass\n",
            "raise\n",
            "return\n",
            "try\n",
            "while\n",
            "with\n",
            "yield\n"
          ],
          "name": "stdout"
        }
      ]
    },
    {
      "cell_type": "code",
      "metadata": {
        "id": "HRKoo_RTzZbl",
        "colab_type": "code",
        "colab": {}
      },
      "source": [
        ""
      ],
      "execution_count": 0,
      "outputs": []
    },
    {
      "cell_type": "markdown",
      "metadata": {
        "id": "97Q7XZSe1A1i",
        "colab_type": "text"
      },
      "source": [
        "# Variable Names\n",
        "\n",
        "TLDR: \n",
        "\n",
        "*   Variable names shouldn't be same as that of built-in keywords \n",
        "*   Variable name shouldn't start with a number or with a symbol(except \"_\", protected and private attributes are created using underscore, 🤔 it's better to say it as name mangling rather than protected or private. That's for a different notebook session 😀)\n",
        "\n",
        "PS: Don't give a try naming the variable that starts with #, it would be a Python's comment, which would be neglected by the interpreter 😅"
      ]
    },
    {
      "cell_type": "markdown",
      "metadata": {
        "id": "0hrpcjLg4QaL",
        "colab_type": "text"
      },
      "source": [
        "### Allowed Variable names"
      ]
    },
    {
      "cell_type": "code",
      "metadata": {
        "id": "isvVsIHJ4VcH",
        "colab_type": "code",
        "colab": {
          "base_uri": "https://localhost:8080/",
          "height": 34
        },
        "outputId": "30a860b3-cbc1-47e6-f498-1b74fb3e6d1a"
      },
      "source": [
        "x = True\n",
        "_x = False\n",
        "x_y = \"Hey Python geek!\"\n",
        "x9 = \"alphabet_number\"\n",
        "X = \"one more variable\"  # Python is a case sensitive language, so `x` is different from `X`. Let's give it a try\n",
        "print(f\"x is equal to X:{x==X}\")"
      ],
      "execution_count": 7,
      "outputs": [
        {
          "output_type": "stream",
          "text": [
            "x is equal to X:False\n"
          ],
          "name": "stdout"
        }
      ]
    },
    {
      "cell_type": "markdown",
      "metadata": {
        "id": "15MOnXI35fnn",
        "colab_type": "text"
      },
      "source": [
        "### Invalid Variable names"
      ]
    },
    {
      "cell_type": "markdown",
      "metadata": {
        "id": "AsH_jXBI52FH",
        "colab_type": "text"
      },
      "source": [
        "We will be using `exec` within `try`-`except` to catch the syntax error. 🤔 But why? Syntax errors can't be catched, well it shouldn't for good 😉. so we are using `exec` to execute the code. \n",
        "\n",
        "`exec` takes the string argument and interprets the string as a python code."
      ]
    },
    {
      "cell_type": "code",
      "metadata": {
        "id": "yg-ujR4Z5sJ8",
        "colab_type": "code",
        "colab": {
          "base_uri": "https://localhost:8080/",
          "height": 34
        },
        "outputId": "d8a8429e-5d59-4272-c834-17e68dc4e32d"
      },
      "source": [
        "# variable name starting with number\n",
        "code_string = \"9x=True\"\n",
        "try:\n",
        "    exec(code_string)\n",
        "except SyntaxError as exc:\n",
        "    print(f\"Ouch! In the exception: {exc}\")"
      ],
      "execution_count": 11,
      "outputs": [
        {
          "output_type": "stream",
          "text": [
            "Ouch! In the exception: invalid syntax (<string>, line 1)\n"
          ],
          "name": "stdout"
        }
      ]
    },
    {
      "cell_type": "code",
      "metadata": {
        "id": "cLehV3ZP7Q2s",
        "colab_type": "code",
        "colab": {
          "base_uri": "https://localhost:8080/",
          "height": 34
        },
        "outputId": "7e18510f-b439-4d32-9ef4-c7f37b2d80bd"
      },
      "source": [
        "# variable name starting with a symbol(other than underscore\"_\")\n",
        "code_string = \"$g = 10\"\n",
        "try:\n",
        "    exec(code_string)\n",
        "except SyntaxError as exc:\n",
        "    print(f\"Ouch! In the exception: {exc}\")"
      ],
      "execution_count": 13,
      "outputs": [
        {
          "output_type": "stream",
          "text": [
            "Ouch! In the exception: invalid syntax (<string>, line 1)\n"
          ],
          "name": "stdout"
        }
      ]
    }
  ]
}