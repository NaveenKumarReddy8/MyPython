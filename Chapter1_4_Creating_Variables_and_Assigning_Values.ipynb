{
  "nbformat": 4,
  "nbformat_minor": 0,
  "metadata": {
    "colab": {
      "name": "Untitled6.ipynb",
      "provenance": [],
      "authorship_tag": "ABX9TyNgXF6OGYap7W3/ywVXtQLg",
      "include_colab_link": true
    },
    "kernelspec": {
      "name": "python3",
      "display_name": "Python 3"
    }
  },
  "cells": [
    {
      "cell_type": "markdown",
      "metadata": {
        "id": "view-in-github",
        "colab_type": "text"
      },
      "source": [
        "<a href=\"https://colab.research.google.com/github/NaveenKumarReddy8/PythonWorkshop/blob/chapter_1-5/Chapter1_4_Creating_Variables_and_Assigning_Values.ipynb\" target=\"_parent\"><img src=\"https://colab.research.google.com/assets/colab-badge.svg\" alt=\"Open In Colab\"/></a>"
      ]
    },
    {
      "cell_type": "markdown",
      "metadata": {
        "id": "UuDDj1sNytA5",
        "colab_type": "text"
      },
      "source": [
        "# 1.4 Data types\n",
        "\n",
        "`Kiddo explanation: `\n",
        "\n",
        "We might use many materials like sand, bricks, concrete to construct a house. These are basic and essential needs to have the construction done and each of them have a specific role or usage.\n",
        "\n",
        "Likewise, we need various data types like string, boolean, integer, dictionary etc.. for the development of a code. We need to know where to use a specific data type and it's functionality.😊\n"
      ]
    },
    {
      "cell_type": "markdown",
      "metadata": {
        "id": "KKFJ8yNR1uUe",
        "colab_type": "text"
      },
      "source": [
        "We have various built-in data types that come out of the box 😎\n",
        "\n",
        "| Data type       | Mutable?   |\n",
        "|-----------------|------------|\n",
        "|   None          | ❌         |\n",
        "|   bytes         | ❌         |\n",
        "|   int           | ❌         |\n",
        "|   bool          | ❌         |\n",
        "|   float         | ❌         |\n",
        "|   complex       | ❌         |\n",
        "|   str           | ❌         |\n",
        "|   tuple         | ❌         |\n",
        "|   list          | ✅         |\n",
        "|   set           | ✅         |\n",
        "|   dict          | ✅         |\n",
        "\n",
        "\n",
        "The First question we would be having is \"What is Mutable?🤔\".\n",
        "If a object can be altered after its creation, then it is Mutable, else Immutable."
      ]
    }
  ]
}