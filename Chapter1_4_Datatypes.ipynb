{
  "nbformat": 4,
  "nbformat_minor": 0,
  "metadata": {
    "colab": {
      "name": "Untitled6.ipynb",
      "provenance": [],
      "authorship_tag": "ABX9TyMx986Kmxb4apMkX+HrJJ9a",
      "include_colab_link": true
    },
    "kernelspec": {
      "name": "python3",
      "display_name": "Python 3"
    }
  },
  "cells": [
    {
      "cell_type": "markdown",
      "metadata": {
        "id": "view-in-github",
        "colab_type": "text"
      },
      "source": [
        "<a href=\"https://colab.research.google.com/github/NaveenKumarReddy8/PythonWorkshop/blob/chapter_1-5/Chapter1_4_Datatypes.ipynb\" target=\"_parent\"><img src=\"https://colab.research.google.com/assets/colab-badge.svg\" alt=\"Open In Colab\"/></a>"
      ]
    },
    {
      "cell_type": "markdown",
      "metadata": {
        "id": "UuDDj1sNytA5",
        "colab_type": "text"
      },
      "source": [
        "# 1.4 Data types\n",
        "\n",
        "`Kiddo explanation: `\n",
        "\n",
        "We might use many materials like sand, bricks, concrete to construct a house. These are basic and essential needs to have the construction done and each of them have a specific role or usage.\n",
        "\n",
        "Likewise, we need various data types like string, boolean, integer, dictionary etc.. for the development of a code. We need to know where to use a specific data type and it's functionality.😊\n"
      ]
    },
    {
      "cell_type": "markdown",
      "metadata": {
        "id": "KKFJ8yNR1uUe",
        "colab_type": "text"
      },
      "source": [
        "We have various built-in data types that come out of the box 😎\n",
        "\n",
        "| Data type       | Mutable?   |\n",
        "|-----------------|------------|\n",
        "|   None          | ❌         |\n",
        "|   bytes         | ❌         |\n",
        "|   bool          | ❌         |\n",
        "|   int           | ❌         |\n",
        "|   float         | ❌         |\n",
        "|   complex       | ❌         |\n",
        "|   str           | ❌         |\n",
        "|   tuple         | ❌         |\n",
        "|   list          | ✅         |\n",
        "|   set           | ✅         |\n",
        "|   dictionary    | ✅         |\n",
        "\n",
        "\n",
        "The First question we would be having is \"What is Mutable?🤔\".\n",
        "If a object can be altered after its creation, then it is Mutable, else Immutable."
      ]
    },
    {
      "cell_type": "markdown",
      "metadata": {
        "id": "zqt8cGHMeHpp",
        "colab_type": "text"
      },
      "source": [
        "### None\n",
        "None is a singleton object, which represents empty or null."
      ]
    },
    {
      "cell_type": "markdown",
      "metadata": {
        "id": "FQxj06rTiSeu",
        "colab_type": "text"
      },
      "source": [
        "### bytes\n",
        "byte objects are the sequences of bytes, these are machine readable form and can be stored on the disk. Based on the encoding format, the bytes yield results. \n",
        "\n",
        "bytes can be converted to string by decoding it, vice-versa is known as encoding.\n"
      ]
    },
    {
      "cell_type": "markdown",
      "metadata": {
        "id": "f2fDjgFsLbZ2",
        "colab_type": "text"
      },
      "source": [
        "### bool\n",
        "bool objects have only two values: `True`✅ and `False`❌, integer equivalent of True is 1 and for False is 0"
      ]
    },
    {
      "cell_type": "markdown",
      "metadata": {
        "id": "O_gYylijKnqF",
        "colab_type": "text"
      },
      "source": [
        "### int\n",
        "int objects are any mathematical Integers. pretty easy right 😎"
      ]
    },
    {
      "cell_type": "markdown",
      "metadata": {
        "id": "TgxIgghbPJ-d",
        "colab_type": "text"
      },
      "source": [
        "### float\n",
        "floating objects are any rational numbers."
      ]
    },
    {
      "cell_type": "markdown",
      "metadata": {
        "id": "5DZ0fylaPgNS",
        "colab_type": "text"
      },
      "source": [
        "### complex\n",
        "complex objects aren't so complex to understand 😉\n",
        "\n",
        "complex objects hold a Real number and an imaginary number.\n",
        "While creating the complex object, we would be having a `j` beside the imaginary number."
      ]
    },
    {
      "cell_type": "code",
      "metadata": {
        "id": "vLXKHijrRZXH",
        "colab_type": "code",
        "colab": {}
      },
      "source": [
        ""
      ],
      "execution_count": 0,
      "outputs": []
    }
  ]
}