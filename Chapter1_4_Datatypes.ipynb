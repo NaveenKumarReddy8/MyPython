{
 "cells": [
  {
   "cell_type": "markdown",
   "metadata": {
    "colab_type": "text",
    "id": "view-in-github"
   },
   "source": [
    "<a href=\"https://colab.research.google.com/github/NaveenKumarReddy8/PythonWorkshop/blob/chapter_1-5/Chapter1_4_Datatypes.ipynb\" target=\"_parent\"><img src=\"https://colab.research.google.com/assets/colab-badge.svg\" alt=\"Open In Colab\"/></a>"
   ]
  },
  {
   "cell_type": "markdown",
   "metadata": {
    "colab_type": "text",
    "id": "UuDDj1sNytA5"
   },
   "source": [
    "# 1.4 Data types\n",
    "\n",
    "`Kiddo explanation: `\n",
    "\n",
    "We might use many materials like sand, bricks, concrete to construct a house. These are basic and essential needs to have the construction done and each of them have a specific role or usage.\n",
    "\n",
    "Likewise, we need various data types like string, boolean, integer, dictionary etc.. for the development of a code. We need to know where to use a specific data type and it's functionality.😊\n"
   ]
  },
  {
   "cell_type": "markdown",
   "metadata": {
    "colab_type": "text",
    "id": "KKFJ8yNR1uUe"
   },
   "source": [
    "We have various built-in data types that come out of the box 😎\n",
    "\n",
    "| Data type       | Mutable?   |\n",
    "|-----------------|------------|\n",
    "|   None          | ❌         |\n",
    "|   bytes         | ❌         |\n",
    "|   bool          | ❌         |\n",
    "|   int           | ❌         |\n",
    "|   float         | ❌         |\n",
    "|   complex       | ❌         |\n",
    "|   str           | ❌         |\n",
    "|   tuple         | ❌         |\n",
    "|   list          | ✅         |\n",
    "|   set           | ✅         |\n",
    "|   dictionary    | ✅         |\n",
    "\n",
    "\n",
    "The First question we would be having is \"What is Mutable?🤔\".\n",
    "If a object can be altered after its creation, then it is Mutable, else Immutable."
   ]
  },
  {
   "cell_type": "markdown",
   "metadata": {
    "colab_type": "text",
    "id": "zqt8cGHMeHpp"
   },
   "source": [
    "### None\n",
    "None is a singleton object, which represents empty or null."
   ]
  },
  {
   "cell_type": "markdown",
   "metadata": {
    "colab_type": "text",
    "id": "FQxj06rTiSeu"
   },
   "source": [
    "### bytes\n",
    "byte objects are the sequences of bytes, these are machine readable form and can be stored on the disk. Based on the encoding format, the bytes yield results. \n",
    "\n",
    "bytes can be converted to string by decoding it, vice-versa is known as encoding.\n"
   ]
  },
  {
   "cell_type": "markdown",
   "metadata": {
    "colab_type": "text",
    "id": "f2fDjgFsLbZ2"
   },
   "source": [
    "### bool\n",
    "bool objects have only two values: `True`✅ and `False`❌, integer equivalent of True is 1 and for False is 0"
   ]
  },
  {
   "cell_type": "markdown",
   "metadata": {
    "colab_type": "text",
    "id": "O_gYylijKnqF"
   },
   "source": [
    "### int\n",
    "int objects are any mathematical Integers. pretty easy right 😎"
   ]
  },
  {
   "cell_type": "markdown",
   "metadata": {
    "colab_type": "text",
    "id": "TgxIgghbPJ-d"
   },
   "source": [
    "### float\n",
    "floating objects are any rational numbers."
   ]
  },
  {
   "cell_type": "markdown",
   "metadata": {
    "colab_type": "text",
    "id": "5DZ0fylaPgNS"
   },
   "source": [
    "### complex\n",
    "complex objects aren't so complex to understand 😉\n",
    "\n",
    "complex objects hold a Real number and an imaginary number.\n",
    "While creating the complex object, we would be having a `j` beside the imaginary number."
   ]
  },
  {
   "cell_type": "markdown",
   "metadata": {
    "colab_type": "text",
    "id": "P5ce1HvkzEWC"
   },
   "source": [
    "### str\n",
    "string objects holds an sequence of characters."
   ]
  },
  {
   "cell_type": "markdown",
   "metadata": {
    "colab_type": "text",
    "id": "QPn-Y-33zm5o"
   },
   "source": [
    "### tuple\n",
    "tuple object is an immutable datatype which can have any datatype objects inside it and is created by enclosing paranthesis `()` and objects are separated by a comma.\n",
    "\n",
    "Once the tuple object is created, the tuple can't be modified, although if the objects in the tuple are mutable, they can be changed 😊\n",
    "\n",
    "The objects in the tuple are ordered, So the objects in the tuple can be accessed by using its index ranging from 0 to number of elements - 1"
   ]
  },
  {
   "cell_type": "markdown",
   "metadata": {
    "colab_type": "text",
    "id": "F9vhIqFt39-e"
   },
   "source": [
    "### list \n",
    "\n",
    "list objects are similar to tuple, the differences are the list object is mutable, so we can add or remove objects in the list even after its creation. It is created by using `[]`"
   ]
  }
 ],
 "metadata": {
  "colab": {
   "authorship_tag": "ABX9TyOEDR6wwK11gmH5qIVJNJlf",
   "include_colab_link": true,
   "name": "Untitled6.ipynb",
   "provenance": []
  },
  "kernelspec": {
   "display_name": "Python 3",
   "language": "python",
   "name": "python3"
  },
  "language_info": {
   "codemirror_mode": {
    "name": "ipython",
    "version": 3
   },
   "file_extension": ".py",
   "mimetype": "text/x-python",
   "name": "python",
   "nbconvert_exporter": "python",
   "pygments_lexer": "ipython3",
   "version": "3.8.2"
  }
 },
 "nbformat": 4,
 "nbformat_minor": 4
}
