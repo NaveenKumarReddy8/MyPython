{
  "nbformat": 4,
  "nbformat_minor": 0,
  "metadata": {
    "colab": {
      "name": "Chapter1_Getting_Started_With_Python_Language.ipynb",
      "provenance": [],
      "private_outputs": true,
      "authorship_tag": "ABX9TyOg17zYdbb55RCJL2x9+Ow3",
      "include_colab_link": true
    },
    "kernelspec": {
      "name": "python3",
      "display_name": "Python 3"
    }
  },
  "cells": [
    {
      "cell_type": "markdown",
      "metadata": {
        "id": "view-in-github",
        "colab_type": "text"
      },
      "source": [
        "<a href=\"https://colab.research.google.com/github/NaveenKumarReddy8/MyPython/blob/chapter_1-5/Chapter1_Getting_Started_With_Python_Language.ipynb\" target=\"_parent\"><img src=\"https://colab.research.google.com/assets/colab-badge.svg\" alt=\"Open In Colab\"/></a>"
      ]
    },
    {
      "cell_type": "markdown",
      "metadata": {
        "id": "up4SnCr_Ucpb",
        "colab_type": "text"
      },
      "source": [
        "**Getting Started with Python Language**\n",
        "\n",
        "It's pretty easy to start with Python Language.\n",
        "We would be using python >= 3.6 in this repo as of now :)\n",
        "\n",
        "\n",
        "1.   [Download Python](https://www.python.org/)\n",
        "2.   [Google colab (I really love it)](https://colab.research.google.com/)\n",
        "\n",
        "\n"
      ]
    },
    {
      "cell_type": "markdown",
      "metadata": {
        "colab_type": "text",
        "id": "37gVHVNyW3bU"
      },
      "source": [
        "Lets check the version of Python we are using.\n",
        "We have 2 ways to know this.\n",
        "\n",
        "\n",
        "1.   Open the cmd or terminal and execute **python --version**\n",
        "2.   Using Python's builtin sys module"
      ]
    },
    {
      "cell_type": "code",
      "metadata": {
        "id": "ok-tHP26Wua7",
        "colab_type": "code",
        "colab": {}
      },
      "source": [
        "import sys\n",
        "print(sys.version)"
      ],
      "execution_count": 0,
      "outputs": []
    }
  ]
}