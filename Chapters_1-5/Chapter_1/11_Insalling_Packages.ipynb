{
 "cells": [
  {
   "cell_type": "markdown",
   "metadata": {},
   "source": [
    "# 1.11 Installing packages"
   ]
  },
  {
   "cell_type": "markdown",
   "metadata": {},
   "source": [
    "Python has one of the largest programming community who build 3rd party packages and support community help ❤️.\n",
    "\n",
    "That's pretty good, Now, how do we install the packages 🤔? We could use Python's package manager **PIP**."
   ]
  },
  {
   "cell_type": "markdown",
   "metadata": {},
   "source": [
    "Python's official 3rd party package repository is [Python Package Index (PyPI)](https://pypi.org/) and its index url is https://pypi.org/simple\n",
    "\n",
    "Here's how to use PIP in shell/terminal:\n",
    "\n",
    "\n",
    "To search for a package:\n",
    "\n",
    "```shell\n",
    "pip search [package name]\n",
    "```"
   ]
  },
  {
   "cell_type": "markdown",
   "metadata": {},
   "source": [
    "To install a package:\n",
    "\n",
    "<details open>\n",
    "<summary>Install</summary>\n",
    "\n",
    "```shell\n",
    "    pip install [package name]\n",
    "```\n",
    "</details>\n",
    "\n",
    "\n",
    "<details open>\n",
    "<summary>Install a specific version</summary>\n",
    "\n",
    "```shell\n",
    "    pip install [package name]==[version]\n",
    "```\n",
    "</details>\n",
    "    \n",
    "\n",
    "<details open>\n",
    "<summary>Install greater than a specific version</summary>\n",
    "\n",
    "```shell\n",
    "    pip install [package name]>=[verion]\n",
    "```\n",
    "</details>"
   ]
  },
  {
   "cell_type": "markdown",
   "metadata": {},
   "source": [
    "To uninstall a package\n",
    "\n",
    "```shell\n",
    "pip uninstall [package name]\n",
    "```"
   ]
  }
 ],
 "metadata": {
  "kernelspec": {
   "display_name": "Python 3",
   "language": "python",
   "name": "python3"
  },
  "language_info": {
   "codemirror_mode": {
    "name": "ipython",
    "version": 3
   },
   "file_extension": ".py",
   "mimetype": "text/x-python",
   "name": "python",
   "nbconvert_exporter": "python",
   "pygments_lexer": "ipython3",
   "version": "3.8.5"
  }
 },
 "nbformat": 4,
 "nbformat_minor": 4
}
