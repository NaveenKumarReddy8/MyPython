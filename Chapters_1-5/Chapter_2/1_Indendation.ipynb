{
 "cells": [
  {
   "cell_type": "markdown",
   "id": "lucky-stranger",
   "metadata": {},
   "source": [
    "# 2.1 Indendation"
   ]
  },
  {
   "cell_type": "markdown",
   "id": "appointed-software",
   "metadata": {},
   "source": [
    "I have seen memes of people fighting about opening braces, whether they should be starting in the same line or in next line in the programming languages like C, Java etc... 👻"
   ]
  },
  {
   "cell_type": "markdown",
   "id": "aggregate-promise",
   "metadata": {},
   "source": [
    "![Types of people using curly braces](resources/type_of_using_curly_braces.jpg)"
   ]
  },
  {
   "cell_type": "markdown",
   "id": "indonesian-encounter",
   "metadata": {},
   "source": [
    "**Python Developers be like:** Hold my Beer 🍺"
   ]
  },
  {
   "cell_type": "markdown",
   "id": "suburban-county",
   "metadata": {},
   "source": [
    "![Python developers: we don't do that here](resources/curly_braces_we_dont_do_that_here.jpg)"
   ]
  },
  {
   "cell_type": "markdown",
   "id": "precious-shift",
   "metadata": {},
   "source": [
    "In Python, we don't use curly braces for grouping the statements. Instead, we use Indendation. \n",
    "\n",
    "Each group of statements are indended using spaces or tabs."
   ]
  },
  {
   "cell_type": "code",
   "execution_count": null,
   "id": "beautiful-police",
   "metadata": {},
   "outputs": [],
   "source": [
    "class Example:\n",
    "    # Every method belonging to a class must be indended equally.\n",
    "    def __init__(self):\n",
    "        name = \"indendation example\"\n",
    "\n",
    "    def check_for_odd_or_even(self, number: int):\n",
    "        # Everything that belongs to this method are indended as well.\n",
    "        if number % 2 == 0:\n",
    "            print(f\"{number} is even.\")\n",
    "        else:\n",
    "            print(f\"{number} is odd.\")\n",
    "\n",
    "\n",
    "# We can see that the say_hello_multiple_times is not indended inside the Example class.\n",
    "# Hence, say_hello_multiple_times function doesn't belong to Example class.\n",
    "def say_hello_multiple_times(count: int):\n",
    "    for _ in range(count):\n",
    "        # Loops or conditions are also needed to be intended.\n",
    "        print(\"Hello\")"
   ]
  },
  {
   "cell_type": "markdown",
   "id": "hourly-madrid",
   "metadata": {
    "tags": []
   },
   "source": [
    "[PEP-8](https://www.python.org/dev/peps/pep-0008/) recommends to use **4 Spaces instead of Tabs**. Although using of Tabs do work, but ensure **not** to mix both tabs and spaces, as you might get `TabError` for such indendations."
   ]
  },
  {
   "cell_type": "markdown",
   "id": "47ab2d24-3bf9-4964-823a-86e1027364e0",
   "metadata": {},
   "source": [
    "### A meme on indendation 😜"
   ]
  },
  {
   "cell_type": "markdown",
   "id": "exclusive-equation",
   "metadata": {},
   "source": [
    "If using a normal text editor like notepad where it doesn't show the warnings or errors, sometimes we might get errors due to wrong indendation or mix usage of both tabs and spaces, we get an error and it would be tricky to resolve it as it is invisible."
   ]
  },
  {
   "cell_type": "markdown",
   "id": "06f5a235-4271-4c34-8547-4318bcab967f",
   "metadata": {},
   "source": [
    "![Meme on indendation](resources/python_indendation.jpg)"
   ]
  }
 ],
 "metadata": {
  "kernelspec": {
   "display_name": "Python 3",
   "language": "python",
   "name": "python3"
  },
  "language_info": {
   "codemirror_mode": {
    "name": "ipython",
    "version": 3
   },
   "file_extension": ".py",
   "mimetype": "text/x-python",
   "name": "python",
   "nbconvert_exporter": "python",
   "pygments_lexer": "ipython3",
   "version": "3.9.4"
  }
 },
 "nbformat": 4,
 "nbformat_minor": 5
}
