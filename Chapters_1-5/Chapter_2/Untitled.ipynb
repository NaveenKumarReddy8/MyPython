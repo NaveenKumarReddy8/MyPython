{
 "cells": [
  {
   "cell_type": "markdown",
   "id": "advanced-cemetery",
   "metadata": {},
   "source": [
    "# Indendation"
   ]
  },
  {
   "cell_type": "markdown",
   "id": "empirical-december",
   "metadata": {},
   "source": [
    "I have seen memes of people fighting about opening braces, whether they should be starting in the same line or in next line in the programming languages like C, Java etc... 👻"
   ]
  },
  {
   "cell_type": "markdown",
   "id": "rocky-puzzle",
   "metadata": {},
   "source": [
    "![abcd](resources/type_of_using_curly_braces.jpg)"
   ]
  },
  {
   "cell_type": "markdown",
   "id": "regulation-following",
   "metadata": {},
   "source": [
    "**Python Developers be like:** Hold my Beer 🍺"
   ]
  },
  {
   "cell_type": "markdown",
   "id": "lonely-syracuse",
   "metadata": {},
   "source": [
    "![Python developers: we don't do that here](resources/curly_braces_we_dont_do_that_here.jpg)"
   ]
  },
  {
   "cell_type": "markdown",
   "id": "according-scout",
   "metadata": {},
   "source": [
    "In Python, we don't use curly braces for grouping the statements. Instead, we use Indendation. \n",
    "\n",
    "Each group of statements are indended using spaces or tabs."
   ]
  },
  {
   "cell_type": "code",
   "execution_count": 3,
   "id": "empty-hydrogen",
   "metadata": {},
   "outputs": [],
   "source": [
    "class Example:\n",
    "    # Every method belonging to a class must be indended equally.\n",
    "    def __init__(self):\n",
    "        name = \"indendation example\"\n",
    "    \n",
    "    def check_for_odd_or_even(self, number: int):\n",
    "        # Everything that belongs to this method are indended as well.\n",
    "        if number % 2 == 0:\n",
    "            print(f\"{number} is even.\")\n",
    "        else:\n",
    "            print(f\"{number} is odd.\")\n",
    "\n",
    "# We can see that the say_hello_multiple_times is not indended inside the Example class.\n",
    "# Hence, say_hello_multiple_times function doesn't belong to Example class.\n",
    "def say_hello_multiple_times(count: int):\n",
    "    for _ in range(count):\n",
    "        print(\"Hello\")"
   ]
  },
  {
   "cell_type": "markdown",
   "id": "first-judgment",
   "metadata": {
    "tags": []
   },
   "source": [
    "()"
   ]
  }
 ],
 "metadata": {
  "kernelspec": {
   "display_name": "Python 3",
   "language": "python",
   "name": "python3"
  },
  "language_info": {
   "codemirror_mode": {
    "name": "ipython",
    "version": 3
   },
   "file_extension": ".py",
   "mimetype": "text/x-python",
   "name": "python",
   "nbconvert_exporter": "python",
   "pygments_lexer": "ipython3",
   "version": "3.9.4"
  }
 },
 "nbformat": 4,
 "nbformat_minor": 5
}
