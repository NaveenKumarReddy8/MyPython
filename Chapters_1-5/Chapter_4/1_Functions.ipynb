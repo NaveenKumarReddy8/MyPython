{
 "cells": [
  {
   "cell_type": "markdown",
   "id": "807cc00b-ac97-4475-8dc4-b479f954cf2a",
   "metadata": {},
   "source": [
    "# 4.1 Functions"
   ]
  },
  {
   "cell_type": "markdown",
   "id": "5bdd2646-4cdb-4972-94fb-7dc15b63fb41",
   "metadata": {},
   "source": [
    "The purpose of Functions is grouping the code into organised, readable and reusable format. By using the functions, code redundancy can be reduced."
   ]
  },
  {
   "cell_type": "markdown",
   "id": "0e9747f5-3ecb-455e-91d8-6f4360381bed",
   "metadata": {},
   "source": [
    "A soft rule of functions is that, an function shoud be **Small** and **Do One Thing** mentioned in Clean Code by Robert C. Martin."
   ]
  },
  {
   "cell_type": "markdown",
   "id": "c14b9eba-1d89-4e9f-b215-6c06a2227230",
   "metadata": {},
   "source": [
    "Functions are nothing new to us. We have already used `print` function in our previous lessons, just that it is a built-in function. There are other built-in functions like `help`, `len`, `sorted`, `map`, `filter`, `reduce` etc..."
   ]
  },
  {
   "cell_type": "markdown",
   "id": "9af44158-49b8-4689-ad17-e448bbcb7a6c",
   "metadata": {},
   "source": [
    "In Python functions are created by using the keyword `def` followed by the function name and if required parameters."
   ]
  },
  {
   "cell_type": "markdown",
   "id": "099428a7-9ad1-4958-8544-bdc09e64a9bc",
   "metadata": {},
   "source": [
    "```Python\n",
    "def function_name(parameters):\n",
    "    # statements...\n",
    "    ...\n",
    "    ...\n",
    "    ...\n",
    "```\n",
    "    "
   ]
  },
  {
   "cell_type": "markdown",
   "id": "29521a8b-33b2-4496-be11-30744295fe8e",
   "metadata": {},
   "source": [
    "Here `function_name` is the identifier for the function through which it can be called. `parameters` are optional in the function signature. A function may have any number of parameters to be bound to the function. As we already know we do use Indendation to group the statments, all the statements belonging to the function are indended in the function."
   ]
  },
  {
   "cell_type": "markdown",
   "id": "d7fe5965-7cfc-45fc-8080-781cd2a16eda",
   "metadata": {},
   "source": [
    "By convention function names should be in camelcase 🐪 and be a verb."
   ]
  },
  {
   "cell_type": "markdown",
   "id": "5efe8c30-54dc-47ef-878c-8a34d7ea8ea3",
   "metadata": {},
   "source": [
    "Let's get started with a basic function"
   ]
  },
  {
   "cell_type": "markdown",
   "id": "cf95893a-9b62-4d0b-9204-01bd57771ef4",
   "metadata": {},
   "source": [
    "## Simple function"
   ]
  },
  {
   "cell_type": "code",
   "execution_count": null,
   "id": "d629fb45-b30e-45ad-88b2-2d6b0293a928",
   "metadata": {},
   "outputs": [],
   "source": [
    "def greet():\n",
    "    print(\"Hello Pythoneer! 😎\")"
   ]
  },
  {
   "cell_type": "code",
   "execution_count": null,
   "id": "fe2df63f-34d4-40bb-b4e9-4e0c41a94e72",
   "metadata": {},
   "outputs": [],
   "source": [
    "greet()  # Calling the function"
   ]
  },
  {
   "cell_type": "markdown",
   "id": "8c15c88b-e312-4249-ad47-f9fbdc8251c7",
   "metadata": {},
   "source": [
    "This is a pretty basic function which just prints to the console saying \"Hello Pythoneer!😎\", as we are not returning anything using the `return` keyword, our function `greet` implicitly returns `None` object."
   ]
  },
  {
   "cell_type": "markdown",
   "id": "eb992c4e-476e-4b0c-9624-32393647acfd",
   "metadata": {},
   "source": [
    "As we already know we can pass the parameters to the function, we can give a try on those too.. But before trying out, let's know about the types of Arguments we can define in the function signature. We have the below 4 types of Arguments: "
   ]
  },
  {
   "cell_type": "markdown",
   "id": "3fc8d886-6360-453c-a74d-c57ca0a3ab83",
   "metadata": {},
   "source": [
    "* Positional Arguments\n",
    "* Unnamed positional Arguments / VarArgs\n",
    "* Keyword-only Arguments \n",
    "* Keyword arguments / Varkwargs"
   ]
  }
 ],
 "metadata": {
  "kernelspec": {
   "display_name": "Python 3",
   "language": "python",
   "name": "python3"
  },
  "language_info": {
   "codemirror_mode": {
    "name": "ipython",
    "version": 3
   },
   "file_extension": ".py",
   "mimetype": "text/x-python",
   "name": "python",
   "nbconvert_exporter": "python",
   "pygments_lexer": "ipython3",
   "version": "3.9.5"
  }
 },
 "nbformat": 4,
 "nbformat_minor": 5
}
