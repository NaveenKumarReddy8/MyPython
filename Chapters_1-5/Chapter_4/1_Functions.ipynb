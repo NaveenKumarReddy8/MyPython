{
 "cells": [
  {
   "cell_type": "markdown",
   "id": "807cc00b-ac97-4475-8dc4-b479f954cf2a",
   "metadata": {},
   "source": [
    "# 4.1 Functions"
   ]
  },
  {
   "cell_type": "markdown",
   "id": "5bdd2646-4cdb-4972-94fb-7dc15b63fb41",
   "metadata": {},
   "source": [
    "The purpose of Functions is grouping the code into organised, readable and reusable format. By using the functions, code redundancy can be reduced."
   ]
  },
  {
   "cell_type": "markdown",
   "id": "0e9747f5-3ecb-455e-91d8-6f4360381bed",
   "metadata": {},
   "source": [
    "A soft rule of functions is that, an function shoud be **Small** and **Do One Thing** mentioned in Clean Code by Robert C. Martin."
   ]
  },
  {
   "cell_type": "markdown",
   "id": "c14b9eba-1d89-4e9f-b215-6c06a2227230",
   "metadata": {},
   "source": [
    "Functions are nothing new to us. We have already used `print` function in our previous lessons, just that it is a built-in function. There are other built-in functions like `help`, `len`, `sorted`, `map`, `filter`, `reduce` etc..."
   ]
  },
  {
   "cell_type": "markdown",
   "id": "9af44158-49b8-4689-ad17-e448bbcb7a6c",
   "metadata": {},
   "source": [
    "In Python functions are created by using the keyword `def` followed by the function name and if required parameters."
   ]
  },
  {
   "cell_type": "markdown",
   "id": "099428a7-9ad1-4958-8544-bdc09e64a9bc",
   "metadata": {},
   "source": [
    "```Python\n",
    "def function_name(parameters):\n",
    "    # statements...\n",
    "    ...\n",
    "    ...\n",
    "    ...\n",
    "```\n",
    "    "
   ]
  },
  {
   "cell_type": "markdown",
   "id": "29521a8b-33b2-4496-be11-30744295fe8e",
   "metadata": {},
   "source": [
    "Here `function_name` is the identifier for the function through which it can be called. `parameters` are optional in the function signature. A function may have any number of parameters to be bound to the function. As we already know we do use Indendation to group the statments, all the statements belonging to the function are indended in the function."
   ]
  },
  {
   "cell_type": "markdown",
   "id": "d7fe5965-7cfc-45fc-8080-781cd2a16eda",
   "metadata": {},
   "source": [
    "By convention function names should be in camelcase 🐪 and be a verb."
   ]
  },
  {
   "cell_type": "markdown",
   "id": "5efe8c30-54dc-47ef-878c-8a34d7ea8ea3",
   "metadata": {},
   "source": [
    "Let's get started with a basic function"
   ]
  },
  {
   "cell_type": "markdown",
   "id": "cf95893a-9b62-4d0b-9204-01bd57771ef4",
   "metadata": {},
   "source": [
    "## Simple function"
   ]
  },
  {
   "cell_type": "code",
   "execution_count": null,
   "id": "d629fb45-b30e-45ad-88b2-2d6b0293a928",
   "metadata": {},
   "outputs": [],
   "source": [
    "def greet():\n",
    "    print(\"Hello Pythoneer! 😎\")"
   ]
  },
  {
   "cell_type": "code",
   "execution_count": null,
   "id": "fe2df63f-34d4-40bb-b4e9-4e0c41a94e72",
   "metadata": {},
   "outputs": [],
   "source": [
    "greet()  # Calling the function"
   ]
  },
  {
   "cell_type": "markdown",
   "id": "8c15c88b-e312-4249-ad47-f9fbdc8251c7",
   "metadata": {},
   "source": [
    "This is a pretty basic function which just prints to the console saying \"Hello Pythoneer!😎\", as we are not returning anything using the `return` keyword, our function `greet` implicitly returns `None` object."
   ]
  },
  {
   "cell_type": "markdown",
   "id": "eb992c4e-476e-4b0c-9624-32393647acfd",
   "metadata": {},
   "source": [
    "As we already know we can pass the parameters to the function, we can give a try on those too.. But before trying out, let's know about the types of Arguments we can define in the function signature. We have the below 4 types of Arguments: "
   ]
  },
  {
   "cell_type": "markdown",
   "id": "3fc8d886-6360-453c-a74d-c57ca0a3ab83",
   "metadata": {},
   "source": [
    "* Positional Arguments\n",
    "* Unnamed positional Arguments / VarArgs\n",
    "* Keyword-only Arguments \n",
    "* Keyword arguments / Varkwargs"
   ]
  },
  {
   "cell_type": "markdown",
   "id": "5730ba98-551c-43ab-80e1-977716dc0885",
   "metadata": {},
   "source": [
    "## Positional Arguments"
   ]
  },
  {
   "cell_type": "code",
   "execution_count": null,
   "id": "ff7a47e7-ec8e-4595-b2ef-1a02a95cd69c",
   "metadata": {},
   "outputs": [],
   "source": [
    "def add(operand_1, operand_2):\n",
    "    print(f\"The sum of {operand_1} and {operand_2} is {operand_1 + operand_2}\")"
   ]
  },
  {
   "cell_type": "markdown",
   "id": "e3fc00f2-0df7-4bd6-b704-4f2020237a6a",
   "metadata": {},
   "source": [
    "Yipeee! we have created a new function called add which is expected to add two integers values, Just kidding 😜, thanks to the dynamic typing of the Python, we can even add float values, concat strings and many more using our `add` function, but for now, let's stick with the addition of integers 😎"
   ]
  },
  {
   "cell_type": "code",
   "execution_count": null,
   "id": "97cbfed7-0af6-475c-9234-ce50d9e154cc",
   "metadata": {},
   "outputs": [],
   "source": [
    "add(1, 3)"
   ]
  },
  {
   "cell_type": "markdown",
   "id": "0a53245d-ee53-49b4-8016-e22efcf99e90",
   "metadata": {},
   "source": [
    "Yup, we did got our result ⭐️. what if I forget passing a value? we would see a `TypeError` exception raised 👻"
   ]
  },
  {
   "cell_type": "code",
   "execution_count": null,
   "id": "dd30f1f2-857a-40c9-ba6f-25d5a2a37250",
   "metadata": {},
   "outputs": [],
   "source": [
    "try:\n",
    "    add(1)\n",
    "except TypeError as exc:\n",
    "    print(f\"😈 Ouch! we are into TypeError: {exc}\")"
   ]
  },
  {
   "cell_type": "markdown",
   "id": "c72d9515-494a-4989-8c77-f2661c1e3fdf",
   "metadata": {},
   "source": [
    "We can assign a argument a default value, if no object is passed to that default argument, function would be considering it's value "
   ]
  },
  {
   "cell_type": "markdown",
   "id": "04013ced-f576-47ad-aaf7-460ed37b6967",
   "metadata": {},
   "source": [
    "## Unnamed positional arguments / VarArgs"
   ]
  },
  {
   "cell_type": "markdown",
   "id": "d294a39f-bbf5-4674-8561-77ce07707269",
   "metadata": {},
   "source": [
    "Sometimes we might not know the number of arguments we need to send to a function. As an example, let's think we need to count the number of bucks I spent from the past 3 days, "
   ]
  },
  {
   "cell_type": "markdown",
   "id": "112f316d-c0d7-44e1-a71d-6e0bb28dd294",
   "metadata": {},
   "source": [
    "We might think what the heck are these 🤔.. no issues, let's get to an example."
   ]
  },
  {
   "cell_type": "code",
   "execution_count": null,
   "id": "8623a5ff-40bc-4b83-a7fb-3f6d44d6fa40",
   "metadata": {},
   "outputs": [],
   "source": [
    "def example_func(arg1, arg2=\"🐍\", *args, kw1, kw2=\"😁\", **kwargs):\n",
    "    print(f\"{arg1=}\")\n",
    "    print(f\"{arg2=}\")\n",
    "\n",
    "    print(f\"{args=}\")\n",
    "\n",
    "    print(f\"{kw1=}\")\n",
    "    print(f\"{kw2=}\")\n",
    "\n",
    "    print(f\"{kwargs=}\")\n",
    "\n",
    "    print(f\"The type of args is {type(args)}\")\n",
    "    print(f\"The type of kwargs is {type(kwargs)}\")"
   ]
  },
  {
   "cell_type": "markdown",
   "id": "c99ae5ea-8a36-473a-a043-98ebec360f5e",
   "metadata": {},
   "source": [
    "In the above output, we can see that we have the arguments `arg1`, `arg2`, `*args*`, `kw1`, `kw2` and `kwargs`. Among those we have `arg2` and `kw2` are default arguments as we have their default values set to `🐍` and `😁`. "
   ]
  },
  {
   "cell_type": "markdown",
   "id": "3cf55d8e-bdb8-40d0-8ce6-b28cd5cd61f0",
   "metadata": {},
   "source": [
    "| Type of Argument|Objects| Description |\n",
    "| :---| :---|:--- |\n",
    "| Positional Arguments| `arg1`, `arg2`| `arg1` needs to be passed an object, if there is no object passed for `arg2`, that's not an issue as it is a default argument whose default value here is 🐍. |\n",
    "| Unnamed Positional Argument| `args`| `args` are the Unnamed postitional parameters, we can pass any number of objects to this. The functions receives all the objects as placed inside the tuple.|\n",
    "|Keyword-only Arguments| `kw1`, `kw2`| keyword-only arguments while calling the function should be mandatorily passed as `kw1=\"Python\"`, meaning to specify the argument name. |\n",
    "| Keyword Arguments| `kwargs`| We pass a dictionary from which the function fetches the values using keys of the dictionary.|\n"
   ]
  },
  {
   "cell_type": "code",
   "execution_count": null,
   "id": "0884e790-298e-4641-ada8-f326d873bc63",
   "metadata": {},
   "outputs": [],
   "source": [
    "example_func(\n",
    "    \"Hello Pythoneer!\", [\"😁\", \"♥️\", \"🚀\"], kw1=\"def\", kw2=\"ghi\", kwargs={\"Python\": 1991}\n",
    ")"
   ]
  }
 ],
 "metadata": {
  "kernelspec": {
   "display_name": "Python 3",
   "language": "python",
   "name": "python3"
  },
  "language_info": {
   "codemirror_mode": {
    "name": "ipython",
    "version": 3
   },
   "file_extension": ".py",
   "mimetype": "text/x-python",
   "name": "python",
   "nbconvert_exporter": "python",
   "pygments_lexer": "ipython3",
   "version": "3.9.5"
  }
 },
 "nbformat": 4,
 "nbformat_minor": 5
}
