{
 "cells": [
  {
   "cell_type": "markdown",
   "id": "e08052e2-be6f-43e9-a7ce-7943ff7d0410",
   "metadata": {},
   "source": [
    "# 4.4 Keyword-only arguments"
   ]
  },
  {
   "cell_type": "markdown",
   "id": "2b043b90-8b5c-4126-bb2f-5021149ef659",
   "metadata": {},
   "source": []
  }
 ],
 "metadata": {
  "kernelspec": {
   "display_name": "Python 3",
   "language": "python",
   "name": "python3"
  },
  "language_info": {
   "codemirror_mode": {
    "name": "ipython",
    "version": 3
   },
   "file_extension": ".py",
   "mimetype": "text/x-python",
   "name": "python",
   "nbconvert_exporter": "python",
   "pygments_lexer": "ipython3",
   "version": "3.9.5"
  }
 },
 "nbformat": 4,
 "nbformat_minor": 5
}
