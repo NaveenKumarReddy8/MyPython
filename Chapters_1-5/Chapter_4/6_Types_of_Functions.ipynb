{
 "cells": [
  {
   "cell_type": "markdown",
   "id": "2ae2fe1a-aa26-4f2a-9d04-9b5150385cce",
   "metadata": {},
   "source": [
    "# 4.6 Types of Functions"
   ]
  },
  {
   "cell_type": "code",
   "execution_count": null,
   "id": "233aecfb-4ff5-4626-a2d0-10d0ebcbf979",
   "metadata": {},
   "outputs": [],
   "source": []
  }
 ],
 "metadata": {
  "kernelspec": {
   "display_name": "Python 3",
   "language": "python",
   "name": "python3"
  },
  "language_info": {
   "codemirror_mode": {
    "name": "ipython",
    "version": 3
   },
   "file_extension": ".py",
   "mimetype": "text/x-python",
   "name": "python",
   "nbconvert_exporter": "python",
   "pygments_lexer": "ipython3",
   "version": "3.9.5"
  }
 },
 "nbformat": 4,
 "nbformat_minor": 5
}
