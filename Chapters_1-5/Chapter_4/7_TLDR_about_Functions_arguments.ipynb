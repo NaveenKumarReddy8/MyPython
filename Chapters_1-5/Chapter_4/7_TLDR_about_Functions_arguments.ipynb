{
 "cells": [
  {
   "cell_type": "markdown",
   "id": "db55a942-3cc3-49f2-ad3d-489b1fd79cd9",
   "metadata": {},
   "source": [
    "# 4.7 TLDR regarding function arguments 💡"
   ]
  },
  {
   "cell_type": "markdown",
   "id": "f140c3ed-79a4-4d39-a6b9-e7910e13dbbb",
   "metadata": {},
   "source": [
    "Till now we have seen all the 4 types of arguments that we can use in functions."
   ]
  },
  {
   "cell_type": "markdown",
   "id": "a87b850e-5c81-47d8-91ba-f9cf395ee43f",
   "metadata": {},
   "source": [
    "* Positional Arguments\n",
    "* Unnamed positional Arguments / VarArgs\n",
    "* Keyword-only Arguments \n",
    "* Keyword arguments / Varkwargs"
   ]
  },
  {
   "cell_type": "markdown",
   "id": "579c037c-29b3-47fb-8abd-0ac39b982a5e",
   "metadata": {},
   "source": [
    "Let's give it a shot with all the above arguments in a function 😎"
   ]
  },
  {
   "cell_type": "markdown",
   "id": "206bef4e-ba8f-460d-ba3e-575047e48e08",
   "metadata": {},
   "source": [
    "The complete syntax of a function would be as:\n",
    "\n",
    "```Python\n",
    "def name(positional_only_parameters, /, positional_or_keyword_parameters, *, keyword_only_parameters):\n",
    "```"
   ]
  },
  {
   "cell_type": "markdown",
   "id": "0a1c54d4-7642-45c8-99f3-286b58835a53",
   "metadata": {},
   "source": [
    "`Example:`"
   ]
  },
  {
   "cell_type": "code",
   "execution_count": null,
   "id": "ffb3a0bc-91e0-4c7f-a22a-8ed70b32d259",
   "metadata": {},
   "outputs": [],
   "source": [
    "def my_function():\n",
    "    pass"
   ]
  }
 ],
 "metadata": {
  "kernelspec": {
   "display_name": "Python 3",
   "language": "python",
   "name": "python3"
  },
  "language_info": {
   "codemirror_mode": {
    "name": "ipython",
    "version": 3
   },
   "file_extension": ".py",
   "mimetype": "text/x-python",
   "name": "python",
   "nbconvert_exporter": "python",
   "pygments_lexer": "ipython3",
   "version": "3.9.5"
  }
 },
 "nbformat": 4,
 "nbformat_minor": 5
}
