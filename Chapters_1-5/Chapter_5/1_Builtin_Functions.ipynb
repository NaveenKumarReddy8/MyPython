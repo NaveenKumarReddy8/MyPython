{
 "cells": [
  {
   "cell_type": "markdown",
   "id": "28990232-132b-4cda-a08f-37bcb82e634c",
   "metadata": {},
   "source": [
    "# 5.1 Built-in Functions"
   ]
  },
  {
   "cell_type": "markdown",
   "id": "499290ac-f4f5-417f-a05f-83d8c6014f26",
   "metadata": {},
   "source": [
    "Built-in functions provides specific operations that come out of the box. Guess what, We have already used built-in function, that's none other than our beloved `print` function, I guess everyone's first try of built-in function would be `print` function😎. "
   ]
  },
  {
   "cell_type": "markdown",
   "id": "8abdaff2-379f-4a24-92a3-b7f0f875f749",
   "metadata": {},
   "source": [
    "Thanks to Python 🐍 for giving a huge number of built-in functions. Builtin functions need not be imported explicitly.Let's get the list of built-in functions available with Python"
   ]
  },
  {
   "cell_type": "code",
   "execution_count": null,
   "id": "fafc8499-63ef-4eea-bb37-b12bf55ae545",
   "metadata": {},
   "outputs": [],
   "source": [
    "import builtins\n",
    "from types import BuiltinFunctionType\n",
    "\n",
    "all_builtin_function_names_objects = [\n",
    "    name\n",
    "    for name, obj in builtins.__dict__.items()\n",
    "    if isinstance(obj, BuiltinFunctionType)\n",
    "]\n",
    "print(*all_builtin_function_names_objects, sep=\"\\n\")"
   ]
  },
  {
   "cell_type": "markdown",
   "id": "096e5c51-b287-408d-8376-7b6c4fdd34fa",
   "metadata": {},
   "source": [
    "The question that hits 👊 our brain now is \"How did we get the above output?\". Well, that's simple, we imported the builtins and generated a list by looping over the attributes for each object name `name` and object `obj` and adding the name of the object to the list `all_builtin_function_names_objects` if the object is an instance of `BuiltinFunctionType`."
   ]
  },
  {
   "cell_type": "markdown",
   "id": "7be6a53b-6d92-4f84-aab9-d79ded1a25bc",
   "metadata": {},
   "source": [
    "Let's get a sip of each of the built-in functions"
   ]
  },
  {
   "cell_type": "markdown",
   "id": "fb56bab3-3f09-454e-961a-934b97e712f8",
   "metadata": {},
   "source": [
    "## \\_\\_build_class\\_\\_"
   ]
  },
  {
   "cell_type": "markdown",
   "id": "5ed61755-85bb-4ede-9f76-08ae29d5075c",
   "metadata": {},
   "source": [
    "`__build_class__` is an internal helper function to create a class. Whenever a object of a class is created, `__build__class__` method gets called implicitly."
   ]
  },
  {
   "cell_type": "markdown",
   "id": "6e5928a3-c98b-486f-85fb-dbdbfd29e682",
   "metadata": {},
   "source": [
    "## \\_\\_import\\_\\_"
   ]
  },
  {
   "cell_type": "markdown",
   "id": "3d3c9a16-4bbd-48b2-866b-43122dbcc682",
   "metadata": {},
   "source": [
    "## abs"
   ]
  },
  {
   "cell_type": "markdown",
   "id": "e95953ae-d503-4085-8995-68ee3105f9f4",
   "metadata": {},
   "source": [
    "## all"
   ]
  },
  {
   "cell_type": "markdown",
   "id": "3ac3f8eb-4a1d-477c-8938-e56b14784138",
   "metadata": {},
   "source": [
    "## any"
   ]
  },
  {
   "cell_type": "markdown",
   "id": "5bddf098-917c-4ffa-8762-f765405d2bed",
   "metadata": {},
   "source": [
    "## ascii"
   ]
  },
  {
   "cell_type": "markdown",
   "id": "5b80d8a8-6221-4e7a-9bea-18bccd8e27f2",
   "metadata": {},
   "source": [
    "## bin"
   ]
  },
  {
   "cell_type": "markdown",
   "id": "ed8ad688-6d9d-4463-99c2-6e18ed4f23f5",
   "metadata": {},
   "source": [
    "## breakpoint"
   ]
  },
  {
   "cell_type": "markdown",
   "id": "7cd8b5f6-a041-47dd-8ee0-f6caadc62cbc",
   "metadata": {},
   "source": [
    "## callable"
   ]
  },
  {
   "cell_type": "markdown",
   "id": "8183dace-cd8e-4d04-90cd-341facf9bb0d",
   "metadata": {},
   "source": [
    "## chr"
   ]
  },
  {
   "cell_type": "markdown",
   "id": "9336ce6e-c76b-4358-87fc-d38251c6cd90",
   "metadata": {},
   "source": [
    "## compile"
   ]
  },
  {
   "cell_type": "markdown",
   "id": "ff93614f-eba7-4449-af1b-2defa9641759",
   "metadata": {},
   "source": [
    "## delattr"
   ]
  },
  {
   "cell_type": "markdown",
   "id": "e8906a8d-5fa5-4e27-93d8-51d9f1c609e6",
   "metadata": {},
   "source": [
    "## dir"
   ]
  },
  {
   "cell_type": "markdown",
   "id": "af3a8086-9bb4-4e9c-b78c-000d2814f347",
   "metadata": {},
   "source": [
    "## divmod"
   ]
  },
  {
   "cell_type": "markdown",
   "id": "1d44a0d2-21df-4adb-bc68-21ef7537a763",
   "metadata": {},
   "source": [
    "## eval"
   ]
  },
  {
   "cell_type": "markdown",
   "id": "42194a79-7409-4fb1-ae46-c474d476c171",
   "metadata": {},
   "source": [
    "## exec"
   ]
  },
  {
   "cell_type": "markdown",
   "id": "3fcff3de-2667-4a0a-998b-a12f7ad1ee47",
   "metadata": {},
   "source": [
    "## format"
   ]
  },
  {
   "cell_type": "markdown",
   "id": "c85c4870-669b-4b32-8a13-a9cd020dd89a",
   "metadata": {},
   "source": [
    "## getattr"
   ]
  },
  {
   "cell_type": "markdown",
   "id": "9c987bb0-d31e-4122-a630-f86136577c49",
   "metadata": {},
   "source": [
    "## globals"
   ]
  },
  {
   "cell_type": "markdown",
   "id": "a38257b5-3586-4763-a07b-800bc5fbc75e",
   "metadata": {},
   "source": [
    "## hasattr"
   ]
  },
  {
   "cell_type": "markdown",
   "id": "516e35cf-b8ca-42b9-80e0-b37a1c4a8d8b",
   "metadata": {},
   "source": [
    "## hash"
   ]
  },
  {
   "cell_type": "markdown",
   "id": "16ab7cc2-83af-4bc6-b607-76a73d7f257c",
   "metadata": {},
   "source": [
    "## hex"
   ]
  },
  {
   "cell_type": "markdown",
   "id": "7a033f51-e0f0-4cd3-8938-bab62465172f",
   "metadata": {},
   "source": [
    "## id"
   ]
  },
  {
   "cell_type": "markdown",
   "id": "aee65873-9c41-4120-866d-c9b078055279",
   "metadata": {},
   "source": [
    "## isinstance"
   ]
  },
  {
   "cell_type": "markdown",
   "id": "4805bc9e-f902-4384-ac62-ac6adc40a3ad",
   "metadata": {},
   "source": [
    "## issubclass"
   ]
  },
  {
   "cell_type": "markdown",
   "id": "80efd00c-dcf1-401d-9ee8-ad354b001b02",
   "metadata": {},
   "source": [
    "## iter"
   ]
  },
  {
   "cell_type": "markdown",
   "id": "57dacc47-cabd-4b06-8a3c-5220614101c3",
   "metadata": {},
   "source": [
    "## len"
   ]
  },
  {
   "cell_type": "markdown",
   "id": "fe9b9f65-f5a6-4973-a81d-464b50b2297d",
   "metadata": {},
   "source": [
    "## locals"
   ]
  },
  {
   "cell_type": "markdown",
   "id": "4cc817cb-d386-4631-982f-f5779873e4be",
   "metadata": {},
   "source": [
    "## max"
   ]
  },
  {
   "cell_type": "markdown",
   "id": "3ab6c9d6-c854-471e-8a03-e2fe5430e96e",
   "metadata": {},
   "source": [
    "## min"
   ]
  },
  {
   "cell_type": "markdown",
   "id": "f64b857e-3cb3-420f-95a9-abdf65a384bd",
   "metadata": {},
   "source": [
    "## next"
   ]
  },
  {
   "cell_type": "markdown",
   "id": "8256f29c-53e0-447b-9b24-fb841868243d",
   "metadata": {},
   "source": [
    "## oct"
   ]
  },
  {
   "cell_type": "markdown",
   "id": "4a0a65bc-4661-41bb-a21b-2b69fb3a3b27",
   "metadata": {},
   "source": [
    "## ord"
   ]
  },
  {
   "cell_type": "markdown",
   "id": "9a2aa5b8-6613-4162-948c-b00ea6aca2e1",
   "metadata": {},
   "source": [
    "## pow"
   ]
  },
  {
   "cell_type": "markdown",
   "id": "77bf5dd4-b49d-4600-b995-d7482b025ce2",
   "metadata": {},
   "source": [
    "## print"
   ]
  },
  {
   "cell_type": "markdown",
   "id": "78d10bbe-28e2-48b6-82cf-b3bedb1bf0be",
   "metadata": {},
   "source": [
    "## repr"
   ]
  },
  {
   "cell_type": "markdown",
   "id": "a9d2f7d4-df97-47ff-ac7e-484b55cb0973",
   "metadata": {},
   "source": [
    "## round"
   ]
  },
  {
   "cell_type": "markdown",
   "id": "789f6dea-cb19-4399-94b6-13d3ba0584d7",
   "metadata": {},
   "source": [
    "## setattr"
   ]
  },
  {
   "cell_type": "markdown",
   "id": "b0fd1656-13ad-4f1a-9283-6c937f5072b9",
   "metadata": {},
   "source": [
    "## sorted"
   ]
  },
  {
   "cell_type": "markdown",
   "id": "7346edba-fb2f-4f5a-8fdf-8cf4b120682d",
   "metadata": {},
   "source": [
    "## sum"
   ]
  },
  {
   "cell_type": "markdown",
   "id": "45136d87-7757-426e-9513-7c3d5f794944",
   "metadata": {},
   "source": [
    "## vars"
   ]
  },
  {
   "cell_type": "markdown",
   "id": "3c687f0f-6320-4487-8f38-c6192a981583",
   "metadata": {},
   "source": [
    "## open"
   ]
  }
 ],
 "metadata": {
  "kernelspec": {
   "display_name": "Python 3",
   "language": "python",
   "name": "python3"
  },
  "language_info": {
   "codemirror_mode": {
    "name": "ipython",
    "version": 3
   },
   "file_extension": ".py",
   "mimetype": "text/x-python",
   "name": "python",
   "nbconvert_exporter": "python",
   "pygments_lexer": "ipython3",
   "version": "3.9.5"
  }
 },
 "nbformat": 4,
 "nbformat_minor": 5
}
